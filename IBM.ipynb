{
 "cells": [
  {
   "cell_type": "markdown",
   "id": "013f6299-dfb7-4ca0-a739-191a3f1d453a",
   "metadata": {},
   "source": [
    "## IBM"
   ]
  },
  {
   "cell_type": "markdown",
   "id": "bd58ebe9-8b97-4280-8aa5-67c9aafd5e90",
   "metadata": {},
   "source": [
    "This is the introduction asked during the exercise."
   ]
  },
  {
   "cell_type": "markdown",
   "id": "37f374c0-39eb-42a3-8a87-e5e28febe3fb",
   "metadata": {},
   "source": [
    "Python, R, Julia, Javascript, Php, Java"
   ]
  },
  {
   "cell_type": "markdown",
   "id": "33f8c685-4c2e-4169-a049-6e32d2e7854f",
   "metadata": {},
   "source": [
    "- NumPy\r\n",
    "- Pandas\r\n",
    "- Matplotlib\r\n",
    "- Seaborn\r\n",
    "- Scikit-learn"
   ]
  },
  {
   "cell_type": "markdown",
   "id": "6796e042-854b-4ba7-a601-2a577c752419",
   "metadata": {},
   "source": [
    "| Tool           | Description                 |\n",
    "| -------------- | --------------------------- |\n",
    "| Jupyter        | Interactive notebooks      |\n",
    "| VS Code        | Integrated Development Env. |\n",
    "| TensorFlow     | Machine learning framework  |"
   ]
  },
  {
   "cell_type": "markdown",
   "id": "4cc22abc-8aff-4ff7-9870-d75fbf5d1364",
   "metadata": {},
   "source": [
    "## In this section, we will explore examples of arithmetic expressions."
   ]
  },
  {
   "cell_type": "code",
   "execution_count": 4,
   "id": "d223cc92-a179-4a11-a413-74874fdbc4ad",
   "metadata": {},
   "outputs": [
    {
     "name": "stdout",
     "output_type": "stream",
     "text": [
      "Multiplication Result: 15\n",
      "Addition Result: 8\n"
     ]
    }
   ],
   "source": [
    "# Multiply and add numbers\n",
    "result_multiply = 5 * 3\n",
    "result_add = 5 + 3\n",
    "\n",
    "print(\"Multiplication Result:\", result_multiply)\n",
    "print(\"Addition Result:\", result_add)"
   ]
  },
  {
   "cell_type": "code",
   "execution_count": 5,
   "id": "ffa623e0-7118-4f86-9c26-67859fc9f18f",
   "metadata": {},
   "outputs": [
    {
     "name": "stdout",
     "output_type": "stream",
     "text": [
      "120 minutes is equal to 2.0 hours.\n"
     ]
    }
   ],
   "source": [
    "# Convert minutes to hours\n",
    "minutes = 120\n",
    "hours = minutes / 60\n",
    "\n",
    "print(f\"{minutes} minutes is equal to {hours} hours.\")"
   ]
  },
  {
   "cell_type": "markdown",
   "id": "fea4205f-ea22-4649-991a-a71f4a88b754",
   "metadata": {},
   "source": [
    "1. Understand markdown cell formatting.\n",
    "2. Learn basic arithmetic expressions in Python.\n",
    "3. Familiarize yourself with data science languages and libraries."
   ]
  },
  {
   "cell_type": "markdown",
   "id": "6519c9f7-341c-4948-b4c0-76c956df4944",
   "metadata": {},
   "source": [
    "# Algor LOMBAKO"
   ]
  },
  {
   "cell_type": "code",
   "execution_count": null,
   "id": "e3c519eb-68bb-4aa3-9e6a-78db55853b33",
   "metadata": {},
   "outputs": [],
   "source": []
  }
 ],
 "metadata": {
  "kernelspec": {
   "display_name": "Python 3 (ipykernel)",
   "language": "python",
   "name": "python3"
  },
  "language_info": {
   "codemirror_mode": {
    "name": "ipython",
    "version": 3
   },
   "file_extension": ".py",
   "mimetype": "text/x-python",
   "name": "python",
   "nbconvert_exporter": "python",
   "pygments_lexer": "ipython3",
   "version": "3.11.7"
  }
 },
 "nbformat": 4,
 "nbformat_minor": 5
}
